{
 "cells": [
  {
   "cell_type": "markdown",
   "metadata": {},
   "source": [
    "# 2016 US Bike Share Activity Snapshot\n",
    "\n",
    "## Table of Contents\n",
    "- [Introduction](#intro)\n",
    "- [Posing Questions](#pose_questions)\n",
    "- [Data Collection and Wrangling](#wrangling)\n",
    "  - [Condensing the Trip Data](#condensing)\n",
    "- [Exploratory Data Analysis](#eda)\n",
    "  - [Statistics](#statistics)\n",
    "  - [Visualizations](#visualizations)\n",
    "- [Performing Your Own Analysis](#eda_continued)\n",
    "- [Conclusions](#conclusions)\n",
    "\n",
    "<a id='intro'></a>\n",
    "## Introduction\n",
    "\n",
    "> **Tip**: Quoted sections like this will provide helpful instructions on how to navigate and use a Jupyter notebook.\n",
    "\n",
    "Over the past decade, bicycle-sharing systems have been growing in number and popularity in cities across the world. Bicycle-sharing systems allow users to rent bicycles for short trips, typically 30 minutes or less. Thanks to the rise in information technologies, it is easy for a user of the system to access a dock within the system to unlock or return bicycles. These technologies also provide a wealth of data that can be used to explore how these bike-sharing systems are used.\n",
    "\n",
    "In this project, you will perform an exploratory analysis on data provided by [Motivate](https://www.motivateco.com/), a bike-share system provider for many major cities in the United States. You will compare the system usage between three large cities: New York City, Chicago, and Washington, DC. You will also see if there are any differences within each system for those users that are registered, regular users and those users that are short-term, casual users."
   ]
  },
  {
   "cell_type": "markdown",
   "metadata": {},
   "source": [
    "<a id='pose_questions'></a>\n",
    "## Posing Questions\n",
    "\n",
    "Before looking at the bike sharing data, you should start by asking questions you might want to understand about the bike share data. Consider, for example, if you were working for Motivate. What kinds of information would you want to know about in order to make smarter business decisions? If you were a user of the bike-share service, what factors might influence how you would want to use the service?\n",
    "\n",
    "**Question 1**: Write at least two questions related to bike sharing that you think could be answered by data.\n",
    "\n",
    "**Answer**: \n",
    "1. Is the average subscription or non-subscription customer more profitable?\n",
    "2. What are the busiest times and locations for use? Which areas do I need to ensure are properly stocked for daily commutes?\n",
    "3. What is the average length of commute per city? Per neighborhood?\n",
    "4. Who is my most popular demographic?\n",
    "5. Does weather influence whether someone choose to use a bike-sharing service? By how much? Does it affect subscription vs non-subscription customers?\n",
    "\n",
    "> **Tip**: If you double click on this cell, you will see the text change so that all of the formatting is removed. This allows you to edit this block of text. This block of text is written using [Markdown](http://daringfireball.net/projects/markdown/syntax), which is a way to format text using headers, links, italics, and many other options using a plain-text syntax. You will also use Markdown later in the Nanodegree program. Use **Shift** + **Enter** or **Shift** + **Return** to run the cell and show its rendered form."
   ]
  },
  {
   "cell_type": "markdown",
   "metadata": {},
   "source": [
    "<a id='wrangling'></a>\n",
    "## Data Collection and Wrangling\n",
    "\n",
    "Now it's time to collect and explore our data. In this project, we will focus on the record of individual trips taken in 2016 from our selected cities: New York City, Chicago, and Washington, DC. Each of these cities has a page where we can freely download the trip data.:\n",
    "\n",
    "- New York City (Citi Bike): [Link](https://www.citibikenyc.com/system-data)\n",
    "- Chicago (Divvy): [Link](https://www.divvybikes.com/system-data)\n",
    "- Washington, DC (Capital Bikeshare): [Link](https://www.capitalbikeshare.com/system-data)\n",
    "\n",
    "If you visit these pages, you will notice that each city has a different way of delivering its data. Chicago updates with new data twice a year, Washington DC is quarterly, and New York City is monthly. **However, you do not need to download the data yourself.** The data has already been collected for you in the `/data/` folder of the project files. While the original data for 2016 is spread among multiple files for each city, the files in the `/data/` folder collect all of the trip data for the year into one file per city. Some data wrangling of inconsistencies in timestamp format within each city has already been performed for you. In addition, a random 2% sample of the original data is taken to make the exploration more manageable. \n",
    "\n",
    "**Question 2**: However, there is still a lot of data for us to investigate, so it's a good idea to start off by looking at one entry from each of the cities we're going to analyze. Run the first code cell below to load some packages and functions that you'll be using in your analysis. Then, complete the second code cell to print out the first trip recorded from each of the cities (the second line of each data file).\n",
    "\n",
    "> **Tip**: You can run a code cell like you formatted Markdown cells above by clicking on the cell and using the keyboard shortcut **Shift** + **Enter** or **Shift** + **Return**. Alternatively, a code cell can be executed using the **Play** button in the toolbar after selecting it. While the cell is running, you will see an asterisk in the message to the left of the cell, i.e. `In [*]:`. The asterisk will change into a number to show that execution has completed, e.g. `In [1]`. If there is output, it will show up as `Out [1]:`, with an appropriate number to match the \"In\" number."
   ]
  },
  {
   "cell_type": "code",
   "execution_count": 1,
   "metadata": {
    "collapsed": true
   },
   "outputs": [],
   "source": [
    "## import all necessary packages and functions.\n",
    "import csv # read and write csv files\n",
    "from datetime import datetime # operations to parse dates\n",
    "from pprint import pprint # use to print data structures like dictionaries in\n",
    "                          # a nicer way than the base print function."
   ]
  },
  {
   "cell_type": "code",
   "execution_count": 2,
   "metadata": {},
   "outputs": [
    {
     "name": "stdout",
     "output_type": "stream",
     "text": [
      "\n",
      "City: NYC\n",
      "OrderedDict([('tripduration', '839'),\n",
      "             ('starttime', '1/1/2016 00:09:55'),\n",
      "             ('stoptime', '1/1/2016 00:23:54'),\n",
      "             ('start station id', '532'),\n",
      "             ('start station name', 'S 5 Pl & S 4 St'),\n",
      "             ('start station latitude', '40.710451'),\n",
      "             ('start station longitude', '-73.960876'),\n",
      "             ('end station id', '401'),\n",
      "             ('end station name', 'Allen St & Rivington St'),\n",
      "             ('end station latitude', '40.72019576'),\n",
      "             ('end station longitude', '-73.98997825'),\n",
      "             ('bikeid', '17109'),\n",
      "             ('usertype', 'Customer'),\n",
      "             ('birth year', ''),\n",
      "             ('gender', '0')])\n",
      "\n",
      "City: Chicago\n",
      "OrderedDict([('trip_id', '9080545'),\n",
      "             ('starttime', '3/31/2016 23:30'),\n",
      "             ('stoptime', '3/31/2016 23:46'),\n",
      "             ('bikeid', '2295'),\n",
      "             ('tripduration', '926'),\n",
      "             ('from_station_id', '156'),\n",
      "             ('from_station_name', 'Clark St & Wellington Ave'),\n",
      "             ('to_station_id', '166'),\n",
      "             ('to_station_name', 'Ashland Ave & Wrightwood Ave'),\n",
      "             ('usertype', 'Subscriber'),\n",
      "             ('gender', 'Male'),\n",
      "             ('birthyear', '1990')])\n",
      "\n",
      "City: Washington\n",
      "OrderedDict([('Duration (ms)', '427387'),\n",
      "             ('Start date', '3/31/2016 22:57'),\n",
      "             ('End date', '3/31/2016 23:04'),\n",
      "             ('Start station number', '31602'),\n",
      "             ('Start station', 'Park Rd & Holmead Pl NW'),\n",
      "             ('End station number', '31207'),\n",
      "             ('End station', 'Georgia Ave and Fairmont St NW'),\n",
      "             ('Bike number', 'W20842'),\n",
      "             ('Member Type', 'Registered')])\n"
     ]
    }
   ],
   "source": [
    "def print_first_point(filename):\n",
    "    \"\"\"\n",
    "    This function prints and returns the first data point (second row) from\n",
    "    a csv file that includes a header row.\n",
    "    \"\"\"\n",
    "    # print city name for reference\n",
    "    city = filename.split('-')[0].split('\\\\')[-1]\n",
    "    print('\\nCity: {}'.format(city))\n",
    "    \n",
    "    with open(filename, 'r') as f_in:\n",
    "        ## TODO: Use the csv library to set up a DictReader object. ##\n",
    "        ## see https://docs.python.org/3/library/csv.html           ##\n",
    "        trip_reader = csv.DictReader(f_in)\n",
    "        \n",
    "        ## TODO: Use a function on the DictReader object to read the     ##\n",
    "        ## first trip from the data file and store it in a variable.     ##\n",
    "        ## see https://docs.python.org/3/library/csv.html#reader-objects ##\n",
    "        first_trip = next(trip_reader)\n",
    "        \n",
    "        ## TODO: Use the pprint library to print the first trip. ##\n",
    "        ## see https://docs.python.org/3/library/pprint.html     ##\n",
    "        pprint(first_trip)\n",
    "    # output city name and first trip for later testing\n",
    "    return (city, first_trip)\n",
    "\n",
    "# list of files for each city\n",
    "data_files = ['C:\\\\Users\\\\const\\\\OneDrive\\\\AnacondaProjects\\\\Udacity\\\\BikeShareAnalysis\\\\data\\\\NYC-CitiBike-2016.csv',\n",
    "              'C:\\\\Users\\\\const\\\\OneDrive\\\\AnacondaProjects\\\\Udacity\\\\BikeShareAnalysis\\\\data\\\\Chicago-Divvy-2016.csv',\n",
    "              'C:\\\\Users\\\\const\\\\OneDrive\\\\AnacondaProjects\\\\Udacity\\\\BikeShareAnalysis\\\\data\\\\Washington-CapitalBikeshare-2016.csv',]\n",
    "\n",
    "# print the first trip from each file, store in dictionary\n",
    "example_trips = {}\n",
    "for data_file in data_files:\n",
    "    city, first_trip = print_first_point(data_file)\n",
    "    example_trips[city] = first_trip"
   ]
  },
  {
   "cell_type": "markdown",
   "metadata": {},
   "source": [
    "If everything has been filled out correctly, you should see below the printout of each city name (which has been parsed from the data file name) that the first trip has been parsed in the form of a dictionary. When you set up a `DictReader` object, the first row of the data file is normally interpreted as column names. Every other row in the data file will use those column names as keys, as a dictionary is generated for each row.\n",
    "\n",
    "This will be useful since we can refer to quantities by an easily-understandable label instead of just a numeric index. For example, if we have a trip stored in the variable `row`, then we would rather get the trip duration from `row['duration']` instead of `row[0]`.\n",
    "\n",
    "<a id='condensing'></a>\n",
    "### Condensing the Trip Data\n",
    "\n",
    "It should also be observable from the above printout that each city provides different information. Even where the information is the same, the column names and formats are sometimes different. To make things as simple as possible when we get to the actual exploration, we should trim and clean the data. Cleaning the data makes sure that the data formats across the cities are consistent, while trimming focuses only on the parts of the data we are most interested in to make the exploration easier to work with.\n",
    "\n",
    "You will generate new data files with five values of interest for each trip: trip duration, starting month, starting hour, day of the week, and user type. Each of these may require additional wrangling depending on the city:\n",
    "\n",
    "- **Duration**: This has been given to us in seconds (New York, Chicago) or milliseconds (Washington). A more natural unit of analysis will be if all the trip durations are given in terms of minutes.\n",
    "- **Month**, **Hour**, **Day of Week**: Ridership volume is likely to change based on the season, time of day, and whether it is a weekday or weekend. Use the start time of the trip to obtain these values. The New York City data includes the seconds in their timestamps, while Washington and Chicago do not. The [`datetime`](https://docs.python.org/3/library/datetime.html) package will be very useful here to make the needed conversions.\n",
    "- **User Type**: It is possible that users who are subscribed to a bike-share system will have different patterns of use compared to users who only have temporary passes. Washington divides its users into two types: 'Registered' for users with annual, monthly, and other longer-term subscriptions, and 'Casual', for users with 24-hour, 3-day, and other short-term passes. The New York and Chicago data uses 'Subscriber' and 'Customer' for these groups, respectively. For consistency, you will convert the Washington labels to match the other two. It also turns out that there are some trips in the New York city dataset that do not have an attached user type. Since we don't have enough information to fill these values in, just leave them as-is for now.\n",
    "\n",
    "\n",
    "**Question 3a**: Complete the helper functions in the code cells below to address each of the cleaning tasks described above."
   ]
  },
  {
   "cell_type": "code",
   "execution_count": 3,
   "metadata": {
    "collapsed": true
   },
   "outputs": [],
   "source": [
    "def duration_in_mins(datum, city):\n",
    "    \"\"\"\n",
    "    Takes as input a dictionary containing info about a single trip (datum) and\n",
    "    its origin city (city) and returns the trip duration in units of minutes.\n",
    "    \n",
    "    Remember that Washington is in terms of milliseconds while Chicago and NYC\n",
    "    are in terms of seconds. \n",
    "    \n",
    "    HINT: The csv module reads in all of the data as strings, including numeric\n",
    "    values. You will need a function to convert the strings into an appropriate\n",
    "    numeric type when making your transformations.\n",
    "    see https://docs.python.org/3/library/functions.html\n",
    "    \"\"\"\n",
    "    if city == 'Washington':\n",
    "        duration = float(datum['Duration (ms)']) / 60000\n",
    "    else:\n",
    "        duration = float(datum['tripduration']) / 60    \n",
    "        \n",
    "    return duration\n",
    "\n",
    "\n",
    "# Some tests to check that your code works. There should be no output if all of\n",
    "# the assertions pass. The `example_trips` dictionary was obtained from when\n",
    "# you printed the first trip from each of the original data files.\n",
    "tests = {'NYC': 13.9833,\n",
    "         'Chicago': 15.4333,\n",
    "         'Washington': 7.1231}\n",
    "\n",
    "for city in tests:\n",
    "    assert abs(duration_in_mins(example_trips[city], city) - tests[city]) < .001"
   ]
  },
  {
   "cell_type": "code",
   "execution_count": 4,
   "metadata": {
    "collapsed": true
   },
   "outputs": [],
   "source": [
    "def time_of_trip(datum, city):\n",
    "    \"\"\"\n",
    "    Takes as input a dictionary containing info about a single trip (datum) and\n",
    "    its origin city (city) and returns the month, hour, and day of the week in\n",
    "    which the trip was made.\n",
    "    \n",
    "    Remember that NYC includes seconds, while Washington and Chicago do not.\n",
    "    \n",
    "    HINT: You should use the datetime module to parse the original date\n",
    "    strings into a format that is useful for extracting the desired information.\n",
    "    see https://docs.python.org/3/library/datetime.html#strftime-and-strptime-behavior\n",
    "    \"\"\"\n",
    "    if city == \"NYC\":\n",
    "        parsed_date = datetime.strptime(datum['starttime'], '%m/%d/%Y %H:%M:%S')\n",
    "    \n",
    "    elif city ==\"Chicago\":\n",
    "        parsed_date = datetime.strptime(datum['starttime'], '%m/%d/%Y %H:%M')\n",
    "    \n",
    "    else:\n",
    "        parsed_date = datetime.strptime(datum['Start date'], '%m/%d/%Y %H:%M')\n",
    "    \n",
    "    month = int(parsed_date.month)\n",
    "    hour = int(parsed_date.hour)\n",
    "    day_of_week = parsed_date.strftime('%A')\n",
    "    \n",
    "    return (month, hour, day_of_week)\n",
    "\n",
    "\n",
    "# Some tests to check that your code works. There should be no output if all of\n",
    "# the assertions pass. The `example_trips` dictionary was obtained from when\n",
    "# you printed the first trip from each of the original data files.\n",
    "tests = {'NYC': (1, 0, 'Friday'),\n",
    "         'Chicago': (3, 23, 'Thursday'),\n",
    "         'Washington': (3, 22, 'Thursday')}\n",
    "\n",
    "for city in tests:\n",
    "    assert time_of_trip(example_trips[city], city) == tests[city]"
   ]
  },
  {
   "cell_type": "code",
   "execution_count": 5,
   "metadata": {
    "collapsed": true
   },
   "outputs": [],
   "source": [
    "def type_of_user(datum, city):\n",
    "    \"\"\"\n",
    "    Takes as input a dictionary containing info about a single trip (datum) and\n",
    "    its origin city (city) and returns the type of system user that made the\n",
    "    trip.\n",
    "    \n",
    "    Remember that Washington has different category names compared to Chicago\n",
    "    and NYC. NYC has some data points with a missing user type; you can leave\n",
    "    these as they are (empty string).\n",
    "    \"\"\"\n",
    "    if city == \"Washington\":\n",
    "         user_type = datum['Member Type']\n",
    "         if user_type == 'Registered':\n",
    "             user_type = 'Subscriber'\n",
    "         else:\n",
    "             user_type = 'Customer'    \n",
    "    else:\n",
    "         user_type = datum['usertype']\n",
    "     \n",
    "    return user_type\n",
    "\n",
    "# Some tests to check that your code works. There should be no output if all of\n",
    "# the assertions pass. The `example_trips` dictionary was obtained from when\n",
    "# you printed the first trip from each of the original data files.\n",
    "tests = {'NYC': 'Customer',\n",
    "         'Chicago': 'Subscriber',\n",
    "         'Washington': 'Subscriber'}\n",
    "\n",
    "for city in tests:\n",
    "    assert type_of_user(example_trips[city], city) == tests[city]"
   ]
  },
  {
   "cell_type": "markdown",
   "metadata": {},
   "source": [
    "**Question 3b**: Now, use the helper functions you wrote above to create a condensed data file for each city consisting only of the data fields indicated above. In the `/examples/` folder, you will see an example datafile from the [Bay Area Bike Share](http://www.bayareabikeshare.com/open-data) before and after conversion. Make sure that your output is formatted to be consistent with the example file."
   ]
  },
  {
   "cell_type": "code",
   "execution_count": 6,
   "metadata": {
    "collapsed": true
   },
   "outputs": [],
   "source": [
    "def condense_data(in_file, out_file, city):\n",
    "    \"\"\"\n",
    "    This function takes full data from the specified input file\n",
    "    and writes the condensed data to a specified output file. The city\n",
    "    argument determines how the input file will be parsed.\n",
    "    \n",
    "    HINT: See the cell below to see how the arguments are structured!\n",
    "    \"\"\"\n",
    "    \n",
    "    with open(out_file, 'w') as f_out, open(in_file, 'r') as f_in:\n",
    "        # set up csv DictWriter object - writer requires column names for the\n",
    "        # first row as the \"fieldnames\" argument\n",
    "        out_colnames = ['duration', 'month', 'hour', 'day_of_week', 'user_type']        \n",
    "        trip_writer = csv.DictWriter(f_out, fieldnames = out_colnames, lineterminator='\\n')\n",
    "        trip_writer.writeheader()\n",
    "        \n",
    "        ## TODO: set up csv DictReader object ##\n",
    "        trip_reader = csv.DictReader(f_in) \n",
    "\n",
    "        # collect data from and process each row\n",
    "        for row in trip_reader:\n",
    "            # set up a dictionary to hold the values for the cleaned and trimmed\n",
    "            # data point\n",
    "            new_point = {}\n",
    "\n",
    "            ## TODO: use the helper functions to get the cleaned data from  ##\n",
    "            ## the original data dictionaries.                              ##\n",
    "            ## Note that the keys for the new_point dictionary should match ##\n",
    "            ## the column names set in the DictWriter object above.         ##\n",
    "            month, hour, day_of_week = time_of_trip(row,city)\n",
    "            new_point['duration'] = duration_in_mins(row,city)\n",
    "            new_point['month'] = month\n",
    "            new_point['hour'] = hour\n",
    "            new_point['day_of_week'] = day_of_week\n",
    "            new_point['user_type'] = type_of_user(row,city)\n",
    "\n",
    "            ## TODO: write the processed information to the output file.     ##\n",
    "            ## see https://docs.python.org/3/library/csv.html#writer-objects ##\n",
    "            trip_writer.writerow(new_point)\n",
    "            "
   ]
  },
  {
   "cell_type": "code",
   "execution_count": 7,
   "metadata": {},
   "outputs": [
    {
     "name": "stdout",
     "output_type": "stream",
     "text": [
      "\n",
      "City: Washington\n",
      "OrderedDict([('duration', '7.123116666666666'),\n",
      "             ('month', '3'),\n",
      "             ('hour', '22'),\n",
      "             ('day_of_week', 'Thursday'),\n",
      "             ('user_type', 'Subscriber')])\n",
      "\n",
      "City: Chicago\n",
      "OrderedDict([('duration', '15.433333333333334'),\n",
      "             ('month', '3'),\n",
      "             ('hour', '23'),\n",
      "             ('day_of_week', 'Thursday'),\n",
      "             ('user_type', 'Subscriber')])\n",
      "\n",
      "City: NYC\n",
      "OrderedDict([('duration', '13.983333333333333'),\n",
      "             ('month', '1'),\n",
      "             ('hour', '0'),\n",
      "             ('day_of_week', 'Friday'),\n",
      "             ('user_type', 'Customer')])\n"
     ]
    }
   ],
   "source": [
    "# Run this cell to check your work\n",
    "city_info = {'Washington': {'in_file': 'C:\\\\Users\\\\const\\\\OneDrive\\\\AnacondaProjects\\\\Udacity\\\\BikeShareAnalysis\\\\data\\\\Washington-CapitalBikeshare-2016.csv',\n",
    "                            'out_file': 'C:\\\\Users\\\\const\\\\OneDrive\\\\AnacondaProjects\\\\Udacity\\\\BikeShareAnalysis\\\\data\\\\Washington-2016-Summary.csv'},\n",
    "             'Chicago': {'in_file': 'C:\\\\Users\\\\const\\\\OneDrive\\\\AnacondaProjects\\\\Udacity\\\\BikeShareAnalysis\\\\data\\\\Chicago-Divvy-2016.csv',\n",
    "                         'out_file': 'C:\\\\Users\\\\const\\\\OneDrive\\\\AnacondaProjects\\\\Udacity\\\\BikeShareAnalysis\\\\data\\\\Chicago-2016-Summary.csv'},\n",
    "             'NYC': {'in_file': 'C:\\\\Users\\\\const\\\\OneDrive\\\\AnacondaProjects\\\\Udacity\\\\BikeShareAnalysis\\\\data\\\\NYC-CitiBike-2016.csv',\n",
    "                     'out_file': 'C:\\\\Users\\\\const\\\\OneDrive\\\\AnacondaProjects\\\\Udacity\\\\BikeShareAnalysis\\\\data\\\\NYC-2016-Summary.csv'}}\n",
    "\n",
    "for city, filenames in city_info.items():\n",
    "    condense_data(filenames['in_file'], filenames['out_file'], city)\n",
    "    print_first_point(filenames['out_file'])"
   ]
  },
  {
   "cell_type": "markdown",
   "metadata": {},
   "source": [
    "> **Tip**: If you save a jupyter Notebook, the output from running code blocks will also be saved. However, the state of your workspace will be reset once a new session is started. Make sure that you run all of the necessary code blocks from your previous session to reestablish variables and functions before picking up where you last left off.\n",
    "\n",
    "<a id='eda'></a>\n",
    "## Exploratory Data Analysis\n",
    "\n",
    "Now that you have the data collected and wrangled, you're ready to start exploring the data. In this section you will write some code to compute descriptive statistics from the data. You will also be introduced to the `matplotlib` library to create some basic histograms of the data.\n",
    "\n",
    "<a id='statistics'></a>\n",
    "### Statistics\n",
    "\n",
    "First, let's compute some basic counts. The first cell below contains a function that uses the csv module to iterate through a provided data file, returning the number of trips made by subscribers and customers. The second cell runs this function on the example Bay Area data in the `/examples/` folder. Modify the cells to answer the question below.\n",
    "\n",
    "**Question 4a**: Which city has the highest number of trips? Which city has the highest proportion of trips made by subscribers? Which city has the highest proportion of trips made by short-term customers?\n",
    "\n",
    "**Answer**: This city with the highest number of trips is New York City. The city with the highest proportion of trips made by subscribers is New York City, and the city with the highest proportion of trips made by short-term customers is Chicago."
   ]
  },
  {
   "cell_type": "markdown",
   "metadata": {},
   "source": [
    "### Process\n",
    "\n",
    "The first thing I did was calculate the number trips made by subscribers and customers per city:"
   ]
  },
  {
   "cell_type": "code",
   "execution_count": 8,
   "metadata": {
    "collapsed": true
   },
   "outputs": [],
   "source": [
    "def number_of_trips(files):\n",
    "    \"\"\"\n",
    "    This function calculates the amount of trips taken by city by user type,\n",
    "    Takes a list of csv files (files) as input.    \n",
    "    \"\"\"\n",
    "    #create dictionaries to store values\n",
    "    subscribers_per_city = {}\n",
    "    customers_per_city = {}\n",
    "    \n",
    "    for filename in files:\n",
    "        with open(filename, 'r') as f_in:\n",
    "            # set up csv reader object\n",
    "            reader = csv.DictReader(f_in)\n",
    "\n",
    "            # list the name of each city based on csv file name\n",
    "            city = filename.split('-')[0].split('\\\\')[-1] \n",
    "            \n",
    "            #initiate count variable\n",
    "            subscribers_per_city[city] = 0\n",
    "            customers_per_city[city] = 0\n",
    "         \n",
    "            for row in reader:                             \n",
    "                \n",
    "                if row['user_type'] == 'Subscriber':\n",
    "                    subscribers_per_city[city] += 1    \n",
    "                elif row['user_type'] == 'Customer':\n",
    "                    customers_per_city[city] += 1\n",
    "    \n",
    "    return subscribers_per_city, customers_per_city"
   ]
  },
  {
   "cell_type": "code",
   "execution_count": 9,
   "metadata": {
    "collapsed": true
   },
   "outputs": [],
   "source": [
    "data_files = ['C:\\\\Users\\\\const\\\\OneDrive\\\\AnacondaProjects\\\\Udacity\\\\BikeShareAnalysis\\\\data\\\\Chicago-2016-Summary.csv',\n",
    "             'C:\\\\Users\\\\const\\\\OneDrive\\\\AnacondaProjects\\\\Udacity\\\\BikeShareAnalysis\\\\data\\\\NYC-2016-Summary.csv',\n",
    "             'C:\\\\Users\\\\const\\\\OneDrive\\\\AnacondaProjects\\\\Udacity\\\\BikeShareAnalysis\\\\data\\\\Washington-2016-Summary.csv']\n",
    "\n",
    "#Unpacks tupples to make working with additional functions more manageable\n",
    "subscriber_trips, customer_trips = number_of_trips(data_files)"
   ]
  },
  {
   "cell_type": "markdown",
   "metadata": {},
   "source": [
    "Number of trips made by subscribers per city:"
   ]
  },
  {
   "cell_type": "code",
   "execution_count": 10,
   "metadata": {},
   "outputs": [
    {
     "name": "stdout",
     "output_type": "stream",
     "text": [
      "{'Chicago': 54982, 'NYC': 245896, 'Washington': 51753}\n"
     ]
    }
   ],
   "source": [
    "print(subscriber_trips)"
   ]
  },
  {
   "cell_type": "markdown",
   "metadata": {},
   "source": [
    "Number of trips made by customers per city:"
   ]
  },
  {
   "cell_type": "code",
   "execution_count": 11,
   "metadata": {},
   "outputs": [
    {
     "name": "stdout",
     "output_type": "stream",
     "text": [
      "{'Chicago': 17149, 'NYC': 30185, 'Washington': 14573}\n"
     ]
    }
   ],
   "source": [
    "print(customer_trips)"
   ]
  },
  {
   "cell_type": "markdown",
   "metadata": {},
   "source": [
    "From there, I created a function that computes the total amount of trips taken per city:"
   ]
  },
  {
   "cell_type": "code",
   "execution_count": 12,
   "metadata": {},
   "outputs": [
    {
     "name": "stdout",
     "output_type": "stream",
     "text": [
      "{'Washington': 66326, 'Chicago': 72131, 'NYC': 276081}\n"
     ]
    }
   ],
   "source": [
    "def total_trips_per_city(subscriber_trips, customer_trips):\n",
    "    \"\"\"\n",
    "    This function calculates the amount of trips taken per city\n",
    "    Takes subscriber_trips and customer_trips as input - calculated \n",
    "    as a result from number_of_trips function.\n",
    "    \"\"\"\n",
    "    #Opted to use set with union to compare dict keys in the event that one of the dicts does not have results for a city\n",
    "    trips_per_city = { k: subscriber_trips.get(k, 0) + customer_trips.get(k, 0) for k in set(subscriber_trips) | set(customer_trips) }\n",
    "        \n",
    "    return trips_per_city\n",
    "\n",
    "trips_per_city = total_trips_per_city(subscriber_trips, customer_trips)\n",
    "\n",
    "print(trips_per_city)"
   ]
  },
  {
   "cell_type": "markdown",
   "metadata": {},
   "source": [
    "Then, I created a function to determine the city with the most trips:"
   ]
  },
  {
   "cell_type": "code",
   "execution_count": 13,
   "metadata": {},
   "outputs": [
    {
     "name": "stdout",
     "output_type": "stream",
     "text": [
      "('NYC', 276081)\n"
     ]
    }
   ],
   "source": [
    "def city_with_most_rides(trips_per_city):\n",
    "    \"\"\"\n",
    "    This function returns the city where the most trips were taken.\n",
    "    Takes trips_per_city as input - calculated as a result of the number_of_trips function.\n",
    "    \"\"\"\n",
    "    city_with_most_trips = max(trips_per_city.items(), key = lambda x: x[1])\n",
    "    \n",
    "    return city_with_most_trips\n",
    "\n",
    "city_with_most_trips = city_with_most_rides(trips_per_city)\n",
    "\n",
    "print(city_with_most_trips)"
   ]
  },
  {
   "cell_type": "markdown",
   "metadata": {},
   "source": [
    "Based on the previous calculations, I can now calculate the proportion of trips made by customers, and from there, determine the city with the highest proportion of customer trips:"
   ]
  },
  {
   "cell_type": "code",
   "execution_count": 14,
   "metadata": {},
   "outputs": [
    {
     "name": "stdout",
     "output_type": "stream",
     "text": [
      "{'Washington': 78.0282242257938, 'Chicago': 76.22520136973007, 'NYC': 89.06661450806104}\n"
     ]
    }
   ],
   "source": [
    "def city_prop_subs(trips_per_city, subscriber_trips):\n",
    "        \"\"\"\n",
    "        This function returns a dict with the proportion of trips taken by subscribers. \n",
    "        Takes as input:\n",
    "        1. trips_per_city - calculated as a result from total_trips_per_city function.\n",
    "        2. subscriber_trips - calculated as a result from number_of_trips function. \n",
    "        \"\"\"\n",
    "        \n",
    "        proportion_trips_subscribers = { k: (subscriber_trips.get(k, 0) * 100) / trips_per_city.get(k, 0) for k in set(subscriber_trips) | set(trips_per_city) }\n",
    "        \n",
    "        return proportion_trips_subscribers\n",
    "\n",
    "proportion_trips_subscribers = city_prop_subs(trips_per_city, subscriber_trips)\n",
    "\n",
    "print(proportion_trips_subscribers)\n"
   ]
  },
  {
   "cell_type": "code",
   "execution_count": 15,
   "metadata": {},
   "outputs": [
    {
     "name": "stdout",
     "output_type": "stream",
     "text": [
      "('NYC', 89.06661450806104)\n"
     ]
    }
   ],
   "source": [
    "def city_with_highest_prop_subs(proportion_trips_subscribers):\n",
    "    \"\"\"\n",
    "    This function returns the city where with the highest proportion of trips made by subscribers.\n",
    "    Takes proportion_subscribers - calculated as a result of the city_prop_subs function.\n",
    "    \"\"\"\n",
    "    city_trips_highest_prop_subs = max(proportion_trips_subscribers.items(), key = lambda x: x[1])\n",
    "    \n",
    "    return city_trips_highest_prop_subs\n",
    "\n",
    "city_trips_highest_prop_subs = city_with_highest_prop_subs(proportion_trips_subscribers)\n",
    "\n",
    "print(city_trips_highest_prop_subs)"
   ]
  },
  {
   "cell_type": "markdown",
   "metadata": {},
   "source": [
    "The same calcualtions can be performed for subscriber trips:"
   ]
  },
  {
   "cell_type": "code",
   "execution_count": 16,
   "metadata": {},
   "outputs": [
    {
     "name": "stdout",
     "output_type": "stream",
     "text": [
      "{'Washington': 21.971775774206193, 'Chicago': 23.774798630269924, 'NYC': 10.93338549193896}\n"
     ]
    }
   ],
   "source": [
    "def city_prop_custs(trips_per_city, customer_trips):\n",
    "        \"\"\"\n",
    "        This function returns a dict with the proportion of trips taken by subscribers. \n",
    "        Takes as input:\n",
    "        1. trips_per_city - calculated as a result from total_trips_per_city function.\n",
    "        2. customer_trips - calculated as a result from number_of_trips function. \n",
    "        \"\"\"\n",
    "        \n",
    "        proportion_trips_customers = { k: (customer_trips.get(k, 0) * 100) / trips_per_city.get(k, 0) for k in set(customer_trips) | set(trips_per_city) }\n",
    "        \n",
    "        return proportion_trips_customers\n",
    "\n",
    "proportion_trips_customers = city_prop_custs(trips_per_city, customer_trips)\n",
    "\n",
    "print(proportion_trips_customers)"
   ]
  },
  {
   "cell_type": "code",
   "execution_count": 17,
   "metadata": {},
   "outputs": [
    {
     "name": "stdout",
     "output_type": "stream",
     "text": [
      "('Chicago', 23.774798630269924)\n"
     ]
    }
   ],
   "source": [
    "def city_with_highest_prop_custs(proportion_trips_customers):\n",
    "    \"\"\"\n",
    "    This function returns the city where with the highest proportion of trips made by customers.\n",
    "    Takes proportion_customers - calculated as a result of the city_prop_subs function.\n",
    "    \"\"\"\n",
    "    city_trips_highest_prop_custs = max(proportion_trips_customers.items(), key = lambda x: x[1])\n",
    "    \n",
    "    return city_trips_highest_prop_custs\n",
    "\n",
    "city_trips_highest_prop_custs = city_with_highest_prop_subs(proportion_trips_customers)\n",
    "\n",
    "print(city_trips_highest_prop_custs)"
   ]
  },
  {
   "cell_type": "markdown",
   "metadata": {},
   "source": [
    "> **Tip**: In order to add additional cells to a notebook, you can use the \"Insert Cell Above\" and \"Insert Cell Below\" options from the menu bar above. There is also an icon in the toolbar for adding new cells, with additional icons for moving the cells up and down the document. By default, new cells are of the code type; you can also specify the cell type (e.g. Code or Markdown) of selected cells from the Cell menu or the dropdown in the toolbar.\n",
    "\n",
    "Now, you will write your own code to continue investigating properties of the data.\n",
    "\n",
    "**Question 4b**: Bike-share systems are designed for riders to take short trips. Most of the time, users are allowed to take trips of 30 minutes or less with no additional charges, with overage charges made for trips of longer than that duration. What is the average trip length for each city? What proportion of rides made in each city are longer than 30 minutes?\n",
    "\n",
    "**Answer**: \n",
    "\n",
    "The average trip lengths per city are:\n",
    "    1. New York City: 15.8 minutes\n",
    "    2. Chicago: 16.6 minutes\n",
    "    3. Washington: 18.9 minutes\n",
    "\n",
    "The proportion of trips longer than 30 minutes per city are:\n",
    "    1. New York City: 7.32%\n",
    "    2. Chicago: 8.35%\n",
    "    3. Washington: 10.83%"
   ]
  },
  {
   "cell_type": "markdown",
   "metadata": {},
   "source": [
    "#### Process for determining values:\n",
    "\n",
    "I first created a list for all trip durations per city, and recalculated the number of trips. I chose to recalculate the number of trips due to New York having some empty values for customer type, which was the basis for my previous calculations."
   ]
  },
  {
   "cell_type": "code",
   "execution_count": 18,
   "metadata": {
    "collapsed": true
   },
   "outputs": [],
   "source": [
    "def duration_and_trips(files):\n",
    "    \"\"\"\n",
    "    This function is used to extract the duration values from csv files, and converts the \n",
    "    values from strings to floats. Takes a list of csv files(files) as input.\n",
    "    Will recreate n_trips as for NYC, usertypes had missing values.\n",
    "    \"\"\"\n",
    "    \n",
    "    duration_list = []\n",
    "    n_trips = {}\n",
    "    \n",
    "    for filename in files:\n",
    "        with open(filename, 'r') as f_in:\n",
    "            reader = csv.DictReader(f_in)\n",
    "            \n",
    "            city = filename.split('-')[0].split('\\\\')[-1]\n",
    "            n_trips[city] = 0\n",
    "            \n",
    "            for row in reader:\n",
    "                duration_list.append((city, float(row['duration'])))\n",
    "                n_trips[city] += 1\n",
    "                \n",
    "    return duration_list, n_trips"
   ]
  },
  {
   "cell_type": "code",
   "execution_count": 19,
   "metadata": {},
   "outputs": [
    {
     "name": "stdout",
     "output_type": "stream",
     "text": [
      "415255\n",
      "415255\n",
      "{'Chicago': 72131, 'NYC': 276798, 'Washington': 66326}\n"
     ]
    }
   ],
   "source": [
    "data_files = ['C:\\\\Users\\\\const\\\\OneDrive\\\\AnacondaProjects\\\\Udacity\\\\BikeShareAnalysis\\\\data\\\\Chicago-2016-Summary.csv',\n",
    "             'C:\\\\Users\\\\const\\\\OneDrive\\\\AnacondaProjects\\\\Udacity\\\\BikeShareAnalysis\\\\data\\\\NYC-2016-Summary.csv',\n",
    "             'C:\\\\Users\\\\const\\\\OneDrive\\\\AnacondaProjects\\\\Udacity\\\\BikeShareAnalysis\\\\data\\\\Washington-2016-Summary.csv']\n",
    "\n",
    "\n",
    "results = duration_and_trips(data_files)\n",
    "\n",
    "duration_list = results[0]\n",
    "n_trips = results[1]\n",
    "\n",
    "#Tests to check that numbers are consistent\n",
    "print(len(duration_list))\n",
    "print(sum(n_trips.values()))\n",
    "print(n_trips)"
   ]
  },
  {
   "cell_type": "markdown",
   "metadata": {},
   "source": [
    "I then created a function to calculate the average trip length and the proportion of trips over 30 minutes."
   ]
  },
  {
   "cell_type": "code",
   "execution_count": 20,
   "metadata": {},
   "outputs": [
    {
     "name": "stdout",
     "output_type": "stream",
     "text": [
      "{'Washington': 18.93287355913721, 'Chicago': 16.563629368787335, 'NYC': 15.81259299802294}\n"
     ]
    }
   ],
   "source": [
    "def avg_trip_duration(duration_list, n_trips):\n",
    "    \"\"\"\n",
    "    This function calculates the average duration of all trips per city. \n",
    "    Takes the duration_list and n_trips values from the duration_and_trips function.\n",
    "    \"\"\"\n",
    "    sum_duration = {}\n",
    "\n",
    "    for city, length in duration_list:\n",
    "        \n",
    "        if city not in sum_duration:\n",
    "            sum_duration[city] = length\n",
    "        else:\n",
    "            sum_duration[city] += length\n",
    "    \n",
    "    avg_trip_length =  { k: sum_duration.get(k, 0) / n_trips.get(k, 0) for k in set(sum_duration) | set(n_trips) } \n",
    "    \n",
    "    return avg_trip_length\n",
    "\n",
    "avg_trip_length = avg_trip_duration(duration_list, n_trips)\n",
    "\n",
    "print(avg_trip_length)"
   ]
  },
  {
   "cell_type": "code",
   "execution_count": 21,
   "metadata": {},
   "outputs": [
    {
     "name": "stdout",
     "output_type": "stream",
     "text": [
      "{'Washington': 10.83888671109369, 'Chicago': 8.34731252859381, 'NYC': 7.316888127804392}\n"
     ]
    }
   ],
   "source": [
    "def prop_trips_over_30_min(duration_list, n_trips):\n",
    "    \"\"\"\n",
    "    This function calculates the proportion of trips over 30 minutes, represented as a percentage.\n",
    "    Takes duration_list and n_trips, calculated from the duration_and_trips function, as inputs.\n",
    "    \"\"\"\n",
    "    n_trips_over_30 = {}\n",
    "    \n",
    "    for city, length in duration_list:\n",
    "        if city not in n_trips_over_30:\n",
    "            if length >= 30:\n",
    "                n_trips_over_30[city] = 1\n",
    "        else:\n",
    "            if length >= 30:\n",
    "                n_trips_over_30[city] += 1\n",
    "            \n",
    "    prop_longer_trips = { k: n_trips_over_30.get(k, 0) * 100 / n_trips.get(k, 0) for k in set(n_trips_over_30) | set(n_trips) }\n",
    "    \n",
    "    return prop_longer_trips\n",
    "\n",
    "percent_trips_over_30_min = prop_trips_over_30_min(duration_list, n_trips) \n",
    "\n",
    "print(percent_trips_over_30_min)"
   ]
  },
  {
   "cell_type": "markdown",
   "metadata": {},
   "source": [
    "I did notice that Washington had the most number of casual users, and also had the highest percentage of trips over 30 minutes. I am curious to see if there is a correlation!"
   ]
  },
  {
   "cell_type": "markdown",
   "metadata": {},
   "source": [
    "**Question 4c**: Dig deeper into the question of trip duration based on ridership. Choose one city. Within that city, which type of user takes longer rides on average: Subscribers or Customers?\n",
    "\n",
    "**Answer**: I chose to look at the city of Washington, but noted that within all cities,the average trip duration for subscribers was significantly shorter than for customers. In Washington, the average trip length for subscribers was 41.7 minutes, and for customers was 12.5. \n",
    "\n",
    "This could be because subscribers use the service regularly as a means of strict transportion, such as for their daily commute, whereas customers are using the service as an \"experience\" and spend more time leisurely biking. \n",
    "\n",
    "The difference between average trip durations for customers and subscribers are most extreme in the Bay Area where the average trip length for customers is five times as long as for customers. The least extreme is NYC, where the average trip duration for customer is only double the duration. A factor that influences this could be climate. "
   ]
  },
  {
   "cell_type": "code",
   "execution_count": 22,
   "metadata": {},
   "outputs": [
    {
     "name": "stdout",
     "output_type": "stream",
     "text": [
      "{('NYC', 'Subscriber'): 13.680790523907177, ('Chicago', 'Subscriber'): 12.067201690250076, ('Washington', 'Subscriber'): 12.528120499294745, ('NYC', ''): 24.1013249651325, ('NYC', 'Customer'): 32.982004306775025, ('Chicago', 'Customer'): 30.979781133982506, ('Washington', 'Customer'): 41.67803139252976}\n"
     ]
    }
   ],
   "source": [
    "def avg_trip_by_usertype(files):\n",
    "    \"\"\"\n",
    "    This function is used to extract the duration and user_type values from a csv files, and converts the \n",
    "    values from strings to floats, and then calculate the average trip duration per usertype.\n",
    "    Takes a list of csv files(files) as input.\n",
    "    \"\"\"\n",
    "    \n",
    "    duration_list = []\n",
    "\n",
    "    for filename in files:\n",
    "        with open(filename, 'r') as f_in:\n",
    "            reader = csv.DictReader(f_in)\n",
    "            \n",
    "            city = filename.split('-')[0].split('\\\\')[-1]\n",
    "            \n",
    "            for row in reader:\n",
    "                duration_list.append((city, row['user_type'], float(row['duration'])))\n",
    "                           \n",
    "    sum_duration = {}\n",
    "    number_of_trips = {}\n",
    "    \n",
    "    for city, usertype, length in duration_list:\n",
    "        if (city, usertype) not in sum_duration:\n",
    "            sum_duration[(city, usertype)] = length\n",
    "            number_of_trips[(city, usertype)] = 1\n",
    "        else:\n",
    "            sum_duration[(city, usertype)] += length\n",
    "            number_of_trips[(city, usertype)] += 1\n",
    "    \n",
    "    mean_usertype_duration = { k: (sum_duration.get(k, 0) / number_of_trips.get(k, 0)) for k in set(sum_duration) | set(number_of_trips) }\n",
    "    \n",
    "    return mean_usertype_duration\n",
    "\n",
    "mean_usertype_duration = avg_trip_by_usertype(data_files)\n",
    "\n",
    "print(mean_usertype_duration)"
   ]
  },
  {
   "cell_type": "code",
   "execution_count": 23,
   "metadata": {},
   "outputs": [
    {
     "name": "stdout",
     "output_type": "stream",
     "text": [
      "41.67803139252976\n",
      "12.528120499294745\n"
     ]
    }
   ],
   "source": [
    "print(mean_usertype_duration['Washington','Customer'])\n",
    "print(mean_usertype_duration['Washington','Subscriber'])"
   ]
  },
  {
   "cell_type": "markdown",
   "metadata": {},
   "source": [
    "<a id='visualizations'></a>\n",
    "### Visualizations\n",
    "\n",
    "The last set of values that you computed should have pulled up an interesting result. While the mean trip time for Subscribers is well under 30 minutes, the mean trip time for Customers is actually _above_ 30 minutes! It will be interesting for us to look at how the trip times are distributed. In order to do this, a new library will be introduced here, `matplotlib`. Run the cell below to load the library and to generate an example plot."
   ]
  },
  {
   "cell_type": "code",
   "execution_count": 24,
   "metadata": {},
   "outputs": [
    {
     "data": {
      "image/png": "[encoded data removed]",
      "text/plain": [
       "<matplotlib.figure.Figure at 0x2235c573630>"
      ]
     },
     "metadata": {},
     "output_type": "display_data"
    }
   ],
   "source": [
    "# load library\n",
    "import matplotlib.pyplot as plt\n",
    "\n",
    "# this is a 'magic word' that allows for plots to be displayed\n",
    "# inline with the notebook. If you want to know more, see:\n",
    "# http://ipython.readthedocs.io/en/stable/interactive/magics.html\n",
    "%matplotlib inline \n",
    "\n",
    "# example histogram, data taken from bay area sample\n",
    "data = [ 7.65,  8.92,  7.42,  5.50, 16.17,  4.20,  8.98,  9.62, 11.48, 14.33,\n",
    "        19.02, 21.53,  3.90,  7.97,  2.62,  2.67,  3.08, 14.40, 12.90,  7.83,\n",
    "        25.12,  8.30,  4.93, 12.43, 10.60,  6.17, 10.88,  4.78, 15.15,  3.53,\n",
    "         9.43, 13.32, 11.72,  9.85,  5.22, 15.10,  3.95,  3.17,  8.78,  1.88,\n",
    "         4.55, 12.68, 12.38,  9.78,  7.63,  6.45, 17.38, 11.90, 11.52,  8.63,]\n",
    "plt.hist(data)\n",
    "plt.title('Distribution of Trip Durations')\n",
    "plt.xlabel('Duration (m)')\n",
    "plt.show()"
   ]
  },
  {
   "cell_type": "markdown",
   "metadata": {},
   "source": [
    "In the above cell, we collected fifty trip times in a list, and passed this list as the first argument to the `.hist()` function. This function performs the computations and creates plotting objects for generating a histogram, but the plot is actually not rendered until the `.show()` function is executed. The `.title()` and `.xlabel()` functions provide some labeling for plot context.\n",
    "\n",
    "You will now use these functions to create a histogram of the trip times for the city you selected in question 4c. Don't separate the Subscribers and Customers for now: just collect all of the trip times and plot them."
   ]
  },
  {
   "cell_type": "code",
   "execution_count": 25,
   "metadata": {},
   "outputs": [
    {
     "name": "stdout",
     "output_type": "stream",
     "text": [
      "[16.912316666666666, 102.99918333333333, 9.66725, 12.8984]\n"
     ]
    }
   ],
   "source": [
    "#Purpose: To collect all of the trip times as a list\n",
    "\n",
    "def trip_times_list(files):\n",
    "    \"\"\"\n",
    "    This function is used to extract the duration from the csv files, and converts the \n",
    "    values from strings to floats, and places them in a list.\n",
    "    Takes a list of csv files(files) as input.\n",
    "    \"\"\"\n",
    "    \n",
    "    duration_list = []\n",
    "\n",
    "    for filename in files:\n",
    "        with open(filename, 'r') as f_in:\n",
    "            reader = csv.DictReader(f_in)\n",
    "            \n",
    "            city = filename.split('-')[0].split('\\\\')[-1]\n",
    "            \n",
    "            for row in reader:\n",
    "                duration_list.append((city, row['user_type'], float(row['duration'])))\n",
    "                \n",
    "    trip_duration = {}\n",
    "    \n",
    "    for city, usertype, length in duration_list:\n",
    "        if (city, usertype) not in trip_duration:\n",
    "            trip_duration[(city, usertype)] = [length]\n",
    "        else:\n",
    "            trip_duration[(city, usertype)].append(length)\n",
    "    \n",
    "    return trip_duration\n",
    "\n",
    "trip_duration = trip_times_list(data_files)\n",
    "\n",
    "Washington_trip_duration_list = trip_duration['Washington','Customer'] + trip_duration['Washington','Subscriber']\n",
    "    \n",
    "print(Washington_trip_duration_list[:4])"
   ]
  },
  {
   "cell_type": "code",
   "execution_count": 26,
   "metadata": {},
   "outputs": [
    {
     "data": {
      "image/png": "[encoded data removed]",
      "text/plain": [
       "<matplotlib.figure.Figure at 0x2235e99e128>"
      ]
     },
     "metadata": {},
     "output_type": "display_data"
    }
   ],
   "source": [
    "## and then use pyplot functions to generate a histogram of trip times.     ##\n",
    "\n",
    "%matplotlib inline \n",
    "\n",
    "# example histogram, data taken from bay area sample\n",
    "data = Washington_trip_duration_list\n",
    "\n",
    "plt.hist(data, range=(0,75)) #omitted results greater than 75 minutes\n",
    "plt.title('Distribution of Trip Durations')\n",
    "plt.xlabel('Duration (m)')\n",
    "plt.show()"
   ]
  },
  {
   "cell_type": "markdown",
   "metadata": {},
   "source": [
    "If you followed the use of the `.hist()` and `.show()` functions exactly like in the example, you're probably looking at a plot that's completely unexpected. The plot consists of one extremely tall bar on the left, maybe a very short second bar, and a whole lot of empty space in the center and right. Take a look at the duration values on the x-axis. This suggests that there are some highly infrequent outliers in the data. Instead of reprocessing the data, you will use additional parameters with the `.hist()` function to limit the range of data that is plotted. Documentation for the function can be found [[here]](https://matplotlib.org/devdocs/api/_as_gen/matplotlib.pyplot.hist.html#matplotlib.pyplot.hist).\n",
    "\n",
    "**Question 5**: Use the parameters of the `.hist()` function to plot the distribution of trip times for the Subscribers in your selected city. Do the same thing for only the Customers. Add limits to the plots so that only trips of duration less than 75 minutes are plotted. As a bonus, set the plots up so that bars are in five-minute wide intervals. For each group, where is the peak of each distribution? How would you describe the shape of each distribution?\n",
    "\n",
    "**Answer**: For the Washington Customers group, the peak of the distribution is between 15 and minutes. For the Washington Subscribers group, it is between 5 and 10 minutes. For both groups, I would say that the histograms are right-skewed, with the Subscribers group being even more extreme. \n",
    "\n",
    "It is interesting to note that there are many more customers have a trip duration that is longer than the average duration as compared to the subscriber group. For the subscriber group, while there are extreme outliers which is causing the histogram to be very right-skewed, the majority of trips taken have a duration closer to the average. "
   ]
  },
  {
   "cell_type": "code",
   "execution_count": 27,
   "metadata": {
    "collapsed": true
   },
   "outputs": [],
   "source": [
    "data_customers = trip_duration['Washington','Customer']\n",
    "data_subscribers = trip_duration['Washington','Subscriber']\n"
   ]
  },
  {
   "cell_type": "code",
   "execution_count": 28,
   "metadata": {},
   "outputs": [
    {
     "data": {
      "image/png": "[encoded data removed]",
      "text/plain": [
       "<matplotlib.figure.Figure at 0x2235a67aba8>"
      ]
     },
     "metadata": {},
     "output_type": "display_data"
    }
   ],
   "source": [
    "#Washington-Customers\n",
    "\n",
    "plt.hist(data_customers, bins=15, range=(0,75)) #omitted results greater than 75 minutes\n",
    "plt.title('Distribution of Trip Durations')\n",
    "plt.xlabel('Duration (m)')\n",
    "plt.show()"
   ]
  },
  {
   "cell_type": "code",
   "execution_count": 29,
   "metadata": {},
   "outputs": [
    {
     "data": {
      "image/png": "[encoded data removed]",
      "text/plain": [
       "<matplotlib.figure.Figure at 0x22362c892e8>"
      ]
     },
     "metadata": {},
     "output_type": "display_data"
    }
   ],
   "source": [
    "#Washington-Subscribers\n",
    "\n",
    "plt.hist(data_subscribers, bins=15, range=(0,75)) #omitted results greater than 75 minutes\n",
    "plt.title('Distribution of Trip Durations')\n",
    "plt.xlabel('Duration (m)')\n",
    "plt.show()"
   ]
  },
  {
   "cell_type": "markdown",
   "metadata": {
    "collapsed": true
   },
   "source": [
    "<a id='eda_continued'></a>\n",
    "## Performing Your Own Analysis\n",
    "\n",
    "So far, you've performed an initial exploration into the data available. You have compared the relative volume of trips made between three U.S. cities and the ratio of trips made by Subscribers and Customers. For one of these cities, you have investigated differences between Subscribers and Customers in terms of how long a typical trip lasts. Now it is your turn to continue the exploration in a direction that you choose. Here are a few suggestions for questions to explore:\n",
    "\n",
    "- How does ridership differ by month or season? Which month / season has the highest ridership? Does the ratio of Subscriber trips to Customer trips change depending on the month or season?\n",
    "- Is the pattern of ridership different on the weekends versus weekdays? On what days are Subscribers most likely to use the system? What about Customers? Does the average duration of rides change depending on the day of the week?\n",
    "- During what time of day is the system used the most? Is there a difference in usage patterns for Subscribers and Customers?\n",
    "\n",
    "If any of the questions you posed in your answer to question 1 align with the bullet points above, this is a good opportunity to investigate one of them. As part of your investigation, you will need to create a visualization. If you want to create something other than a histogram, then you might want to consult the [Pyplot documentation](https://matplotlib.org/devdocs/api/pyplot_summary.html). In particular, if you are plotting values across a categorical variable (e.g. city, user type), a bar chart will be useful. The [documentation page for `.bar()`](https://matplotlib.org/devdocs/api/_as_gen/matplotlib.pyplot.bar.html#matplotlib.pyplot.bar) includes links at the bottom of the page with examples for you to build off of for your own use.\n",
    "\n",
    "**Question 6**: Continue the investigation by exploring another question that could be answered by the data available. Document the question you want to explore below. Your investigation should involve at least two variables and should compare at least two groups. You should also use at least one visualization as part of your explorations.\n",
    "\n",
    "**Answer**: I chose to explore whether ridership differs by month and season. "
   ]
  },
  {
   "cell_type": "code",
   "execution_count": 65,
   "metadata": {},
   "outputs": [
    {
     "name": "stdout",
     "output_type": "stream",
     "text": [
      "[(1.0, 222), (2.0, 283), (3.0, 1188), (4.0, 1192), (5.0, 1248), (6.0, 1707), (7.0, 2186), (8.0, 1806), (9.0, 1674), (10.0, 1560), (11.0, 1075), (12.0, 432)]\n",
      "[(1.0, 2212), (2.0, 2571), (3.0, 4383), (4.0, 4410), (5.0, 4520), (6.0, 5613), (7.0, 5155), (8.0, 5392), (9.0, 5204), (10.0, 5232), (11.0, 4139), (12.0, 2922)]\n"
     ]
    }
   ],
   "source": [
    "def ridership_by_month(files):\n",
    "    \"\"\"\n",
    "    This function categorizes the number of trips taken per usertype per month. CSV files (files) are used as input.\n",
    "    \"\"\"\n",
    "    trips_city_usertype_month = []\n",
    "    \n",
    "    for filename in files:\n",
    "        with open(filename, 'r') as f_in:\n",
    "            reader = csv.DictReader(f_in)\n",
    "            \n",
    "            city = filename.split('-')[0].split('\\\\')[-1]\n",
    "            \n",
    "            for row in reader:\n",
    "                trips_city_usertype_month.append((city, row['user_type'], float(row['month'])))\n",
    "                \n",
    "    subscriber_trips_month = {}\n",
    "    customer_trips_month = {}\n",
    "        \n",
    "    for city, usertype, month in trips_city_usertype_month:\n",
    "        \n",
    "        if city == 'Washington': #only includes results for Washington\n",
    "            if usertype == 'Subscriber':\n",
    "                if month not in subscriber_trips_month:\n",
    "                    subscriber_trips_month[month] = 1\n",
    "                else:\n",
    "                    subscriber_trips_month[month] += 1\n",
    "            else:\n",
    "                if month not in customer_trips_month:\n",
    "                    customer_trips_month[month] = 1\n",
    "                else:\n",
    "                    customer_trips_month[month] += 1\n",
    "            \n",
    "    return (subscriber_trips_month, customer_trips_month)\n",
    "\n",
    "subscribers, customers = ridership_by_month(data_files)\n",
    "\n",
    "customers = tuple(customers.items())\n",
    "customers = sorted(customers, key=lambda month: month[0])\n",
    "subscribers = tuple(subscribers.items())\n",
    "subscribers = sorted(subscribers, key=lambda month: month[0])\n",
    "\n",
    "print(customers)\n",
    "print(subscribers)"
   ]
  },
  {
   "cell_type": "code",
   "execution_count": 78,
   "metadata": {},
   "outputs": [
    {
     "data": {
      "image/png": "[encoded data removed]",
      "text/plain": [
       "<matplotlib.figure.Figure at 0x22369c81a58>"
      ]
     },
     "metadata": {},
     "output_type": "display_data"
    },
    {
     "name": "stdout",
     "output_type": "stream",
     "text": [
      "[90.87921117502054, 90.08409250175193, 78.67528271405493, 78.72188504105677, 78.36338418862691, 76.68032786885246, 70.22204059392453, 74.90969713809392, 75.66152951439372, 77.03180212014134, 79.38243191407749, 87.11985688729875]\n"
     ]
    }
   ],
   "source": [
    "import numpy as np\n",
    "\n",
    "m = 12\n",
    "months = np.arange(m)\n",
    "sub = [s[1] for s in subscribers]  \n",
    "cust = [c[1] for c in customers]\n",
    "width = 0.35\n",
    "\n",
    "sub_bar = plt.bar(months, sub, width)\n",
    "cust_bar = plt.bar(months, cust, width, bottom=sub)\n",
    "\n",
    "plt.ylabel('Rides')\n",
    "plt.title('Rides by Month by Usertype')\n",
    "plt.xticks(months, ('Jan', 'Feb', 'Mar', 'Apr', 'May', 'Jun', 'Jul', 'Aug', 'Sep', 'Oct', 'Nov', 'Dec'))\n",
    "plt.yticks(np.arange(0, 8000, 500))\n",
    "plt.legend((sub_bar[0], cust_bar[0]),('Subscribers','Customers'))\n",
    "\n",
    "plt.show()\n",
    "\n",
    "proportion_sub = [sub[i] * 100 / (sub[i] + cust[i]) for i in range(len(sub))]\n",
    "\n",
    "print(proportion_sub)"
   ]
  },
  {
   "cell_type": "markdown",
   "metadata": {},
   "source": [
    "There are more rides taken between March and October. A drop is experienced as of November, with January being the month with the least amount of rides. This is to be expected due to the elements during the winter season.\n",
    "\n",
    "The ratio between subscriber trips and customer trips narrows during the summer months, with the gab being narrowest during July. The months during the June and July have the highest ridership. Again, this makes sense given that more people are likely taking rides for pleasure as opposed to commutes during the summer months. "
   ]
  },
  {
   "cell_type": "markdown",
   "metadata": {},
   "source": [
    "<a id='conclusions'></a>\n",
    "## Conclusions\n",
    "\n",
    "Congratulations on completing the project! This is only a sampling of the data analysis process: from generating questions, wrangling the data, and to exploring the data. Normally, at this point in the data analysis process, you might want to draw conclusions about the data by performing a statistical test or fitting the data to a model for making predictions. There are also a lot of potential analyses that could be performed on the data which are not possible with only the data provided. For example, detailed location data has not been investigated. Where are the most commonly used docks? What are the most common routes? As another example, weather has potential to have a large impact on daily ridership. How much is ridership impacted when there is rain or snow? Are subscribers or customers affected more by changes in weather?\n",
    "\n",
    "**Question 7**: Putting the bike share data aside, think of a topic or field of interest where you would like to be able to apply the techniques of data science. What would you like to be able to learn from your chosen subject?\n",
    "\n",
    "**Answer**: I'm looking to implement analytics for software development - I would like to be able to evaluate market trends, potential revenue if we decide to go with one feature versus another, user experience, identifying customers that are at risk of leaving, revenue forecasting, competitive analysis... there is a lot that can be analyzed!\n",
    "\n",
    "> **Tip**: If we want to share the results of our analysis with others, we aren't limited to giving them a copy of the jupyter Notebook (.ipynb) file. We can also export the Notebook output in a form that can be opened even for those without Python installed. From the **File** menu in the upper left, go to the **Download as** submenu. You can then choose a different format that can be viewed more generally, such as HTML (.html) or\n",
    "PDF (.pdf). You may need additional packages or software to perform these exports."
   ]
  },
  {
   "cell_type": "code",
   "execution_count": null,
   "metadata": {
    "collapsed": true
   },
   "outputs": [],
   "source": []
  }
 ],
 "metadata": {
  "anaconda-cloud": {},
  "kernelspec": {
   "display_name": "Python 3",
   "language": "python",
   "name": "python3"
  },
  "language_info": {
   "codemirror_mode": {
    "name": "ipython",
    "version": 3
   },
   "file_extension": ".py",
   "mimetype": "text/x-python",
   "name": "python",
   "nbconvert_exporter": "python",
   "pygments_lexer": "ipython3",
   "version": "3.6.3"
  }
 },
 "nbformat": 4,
 "nbformat_minor": 1
}
